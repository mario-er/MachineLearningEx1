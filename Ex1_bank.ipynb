{
 "cells": [
  {
   "cell_type": "markdown",
   "metadata": {},
   "source": [
    "#### Exercise 1 - Bank dataset"
   ]
  },
  {
   "cell_type": "markdown",
   "metadata": {},
   "source": [
    "##### Important libraries"
   ]
  },
  {
   "cell_type": "code",
   "execution_count": 1,
   "metadata": {},
   "outputs": [],
   "source": [
    "import pandas as pd\n",
    "import numpy as np\n",
    "from scipy.io import arff\n",
    "import seaborn as sns\n",
    "import matplotlib.pyplot as plt\n",
    "import openml"
   ]
  },
  {
   "cell_type": "markdown",
   "metadata": {},
   "source": [
    "##### Loading the data"
   ]
  },
  {
   "cell_type": "code",
   "execution_count": 2,
   "metadata": {},
   "outputs": [],
   "source": [
    "#directly downloading from openml\n",
    "dataset = openml.datasets.get_dataset(1461)\n",
    "X, y, categorical_indicator, attribute_names = dataset.get_data(\n",
    "    dataset_format=\"dataframe\", target=dataset.default_target_attribute)"
   ]
  },
  {
   "cell_type": "code",
   "execution_count": 3,
   "metadata": {},
   "outputs": [
    {
     "data": {
      "text/html": [
       "<div>\n",
       "<style scoped>\n",
       "    .dataframe tbody tr th:only-of-type {\n",
       "        vertical-align: middle;\n",
       "    }\n",
       "\n",
       "    .dataframe tbody tr th {\n",
       "        vertical-align: top;\n",
       "    }\n",
       "\n",
       "    .dataframe thead th {\n",
       "        text-align: right;\n",
       "    }\n",
       "</style>\n",
       "<table border=\"1\" class=\"dataframe\">\n",
       "  <thead>\n",
       "    <tr style=\"text-align: right;\">\n",
       "      <th></th>\n",
       "      <th>V1</th>\n",
       "      <th>V2</th>\n",
       "      <th>V3</th>\n",
       "      <th>V4</th>\n",
       "      <th>V5</th>\n",
       "      <th>V6</th>\n",
       "      <th>V7</th>\n",
       "      <th>V8</th>\n",
       "      <th>V9</th>\n",
       "      <th>V10</th>\n",
       "      <th>V11</th>\n",
       "      <th>V12</th>\n",
       "      <th>V13</th>\n",
       "      <th>V14</th>\n",
       "      <th>V15</th>\n",
       "      <th>V16</th>\n",
       "      <th>class</th>\n",
       "    </tr>\n",
       "  </thead>\n",
       "  <tbody>\n",
       "    <tr>\n",
       "      <th>0</th>\n",
       "      <td>58</td>\n",
       "      <td>management</td>\n",
       "      <td>married</td>\n",
       "      <td>tertiary</td>\n",
       "      <td>no</td>\n",
       "      <td>2143.0</td>\n",
       "      <td>yes</td>\n",
       "      <td>no</td>\n",
       "      <td>unknown</td>\n",
       "      <td>5</td>\n",
       "      <td>may</td>\n",
       "      <td>261.0</td>\n",
       "      <td>1</td>\n",
       "      <td>-1.0</td>\n",
       "      <td>0.0</td>\n",
       "      <td>unknown</td>\n",
       "      <td>1</td>\n",
       "    </tr>\n",
       "    <tr>\n",
       "      <th>1</th>\n",
       "      <td>44</td>\n",
       "      <td>technician</td>\n",
       "      <td>single</td>\n",
       "      <td>secondary</td>\n",
       "      <td>no</td>\n",
       "      <td>29.0</td>\n",
       "      <td>yes</td>\n",
       "      <td>no</td>\n",
       "      <td>unknown</td>\n",
       "      <td>5</td>\n",
       "      <td>may</td>\n",
       "      <td>151.0</td>\n",
       "      <td>1</td>\n",
       "      <td>-1.0</td>\n",
       "      <td>0.0</td>\n",
       "      <td>unknown</td>\n",
       "      <td>1</td>\n",
       "    </tr>\n",
       "    <tr>\n",
       "      <th>2</th>\n",
       "      <td>33</td>\n",
       "      <td>entrepreneur</td>\n",
       "      <td>married</td>\n",
       "      <td>secondary</td>\n",
       "      <td>no</td>\n",
       "      <td>2.0</td>\n",
       "      <td>yes</td>\n",
       "      <td>yes</td>\n",
       "      <td>unknown</td>\n",
       "      <td>5</td>\n",
       "      <td>may</td>\n",
       "      <td>76.0</td>\n",
       "      <td>1</td>\n",
       "      <td>-1.0</td>\n",
       "      <td>0.0</td>\n",
       "      <td>unknown</td>\n",
       "      <td>1</td>\n",
       "    </tr>\n",
       "    <tr>\n",
       "      <th>3</th>\n",
       "      <td>47</td>\n",
       "      <td>blue-collar</td>\n",
       "      <td>married</td>\n",
       "      <td>unknown</td>\n",
       "      <td>no</td>\n",
       "      <td>1506.0</td>\n",
       "      <td>yes</td>\n",
       "      <td>no</td>\n",
       "      <td>unknown</td>\n",
       "      <td>5</td>\n",
       "      <td>may</td>\n",
       "      <td>92.0</td>\n",
       "      <td>1</td>\n",
       "      <td>-1.0</td>\n",
       "      <td>0.0</td>\n",
       "      <td>unknown</td>\n",
       "      <td>1</td>\n",
       "    </tr>\n",
       "    <tr>\n",
       "      <th>4</th>\n",
       "      <td>33</td>\n",
       "      <td>unknown</td>\n",
       "      <td>single</td>\n",
       "      <td>unknown</td>\n",
       "      <td>no</td>\n",
       "      <td>1.0</td>\n",
       "      <td>no</td>\n",
       "      <td>no</td>\n",
       "      <td>unknown</td>\n",
       "      <td>5</td>\n",
       "      <td>may</td>\n",
       "      <td>198.0</td>\n",
       "      <td>1</td>\n",
       "      <td>-1.0</td>\n",
       "      <td>0.0</td>\n",
       "      <td>unknown</td>\n",
       "      <td>1</td>\n",
       "    </tr>\n",
       "  </tbody>\n",
       "</table>\n",
       "</div>"
      ],
      "text/plain": [
       "   V1            V2       V3         V4  V5      V6   V7   V8       V9  V10  \\\n",
       "0  58    management  married   tertiary  no  2143.0  yes   no  unknown    5   \n",
       "1  44    technician   single  secondary  no    29.0  yes   no  unknown    5   \n",
       "2  33  entrepreneur  married  secondary  no     2.0  yes  yes  unknown    5   \n",
       "3  47   blue-collar  married    unknown  no  1506.0  yes   no  unknown    5   \n",
       "4  33       unknown   single    unknown  no     1.0   no   no  unknown    5   \n",
       "\n",
       "   V11    V12  V13  V14  V15      V16 class  \n",
       "0  may  261.0    1 -1.0  0.0  unknown     1  \n",
       "1  may  151.0    1 -1.0  0.0  unknown     1  \n",
       "2  may   76.0    1 -1.0  0.0  unknown     1  \n",
       "3  may   92.0    1 -1.0  0.0  unknown     1  \n",
       "4  may  198.0    1 -1.0  0.0  unknown     1  "
      ]
     },
     "execution_count": 3,
     "metadata": {},
     "output_type": "execute_result"
    }
   ],
   "source": [
    "df_bank = pd.DataFrame(X, columns=attribute_names)\n",
    "df_bank[\"class\"] = y\n",
    "df_bank.head(5)\n"
   ]
  },
  {
   "cell_type": "code",
   "execution_count": 4,
   "metadata": {},
   "outputs": [],
   "source": [
    "# rename columns\n",
    "column_names_bank = ['age', 'job', 'marital', 'education', 'default',\n",
    "                     'balance', 'housing', 'loan', 'contact', 'day',\n",
    "                     'month', 'duration', 'campaign', 'pdays',\n",
    "                     'previous', 'poutcome', 'class']\n",
    "df_bank.columns = column_names_bank"
   ]
  },
  {
   "cell_type": "markdown",
   "metadata": {},
   "source": [
    "#### Data processing"
   ]
  },
  {
   "cell_type": "code",
   "execution_count": 5,
   "metadata": {},
   "outputs": [
    {
     "name": "stdout",
     "output_type": "stream",
     "text": [
      "The number of samples is:  45211\n",
      "The number of attributes is:  16\n"
     ]
    }
   ],
   "source": [
    "# Number of samples and number of attributes\n",
    "num_samples = df_bank.shape[0]\n",
    "num_attributes = df_bank.shape[1] - 1 # last one is the class annotation\n",
    "print(\"The number of samples is: \", str(num_samples))\n",
    "print(\"The number of attributes is: \", str(num_attributes))"
   ]
  },
  {
   "cell_type": "code",
   "execution_count": 6,
   "metadata": {},
   "outputs": [
    {
     "name": "stdout",
     "output_type": "stream",
     "text": [
      "age : 0\n",
      "job : 288\n",
      "marital : 0\n",
      "education : 1857\n",
      "default : 0\n",
      "balance : 0\n",
      "housing : 0\n",
      "loan : 0\n",
      "contact : 13020\n",
      "day : 0\n",
      "month : 0\n",
      "duration : 0\n",
      "campaign : 0\n",
      "pdays : 0\n",
      "previous : 0\n",
      "poutcome : 36959\n",
      "class : 0\n",
      "total missing: 52124\n"
     ]
    }
   ],
   "source": [
    "# print number unknown values:\n",
    "num_missing = 0\n",
    "for n in column_names_bank:\n",
    "  num_missing_per_feature = df_bank.loc[:,n].isin(['unknown']).sum(axis=0)\n",
    "  num_missing += num_missing_per_feature\n",
    "  print(n, ':', num_missing_per_feature)\n",
    "print('total missing:', num_missing)\n",
    "\n",
    "#for the moment, I decided to keep these missing values as they are"
   ]
  },
  {
   "cell_type": "code",
   "execution_count": 7,
   "metadata": {},
   "outputs": [
    {
     "name": "stdout",
     "output_type": "stream",
     "text": [
      "age             uint8\n",
      "job          category\n",
      "marital      category\n",
      "education    category\n",
      "default      category\n",
      "balance       float64\n",
      "housing      category\n",
      "loan         category\n",
      "contact      category\n",
      "day             uint8\n",
      "month        category\n",
      "duration      float64\n",
      "campaign        uint8\n",
      "pdays         float64\n",
      "previous      float64\n",
      "poutcome     category\n",
      "class        category\n",
      "dtype: object\n"
     ]
    }
   ],
   "source": [
    "print(df_bank.dtypes)"
   ]
  },
  {
   "cell_type": "code",
   "execution_count": 8,
   "metadata": {},
   "outputs": [
    {
     "data": {
      "text/plain": [
       "age          0\n",
       "job          0\n",
       "marital      0\n",
       "education    0\n",
       "default      0\n",
       "balance      0\n",
       "housing      0\n",
       "loan         0\n",
       "contact      0\n",
       "day          0\n",
       "month        0\n",
       "duration     0\n",
       "campaign     0\n",
       "pdays        0\n",
       "previous     0\n",
       "poutcome     0\n",
       "class        0\n",
       "dtype: int64"
      ]
     },
     "execution_count": 8,
     "metadata": {},
     "output_type": "execute_result"
    }
   ],
   "source": [
    "#print out null values\n",
    "\n",
    "df_bank.isnull().sum()"
   ]
  },
  {
   "cell_type": "code",
   "execution_count": 9,
   "metadata": {},
   "outputs": [
    {
     "name": "stdout",
     "output_type": "stream",
     "text": [
      "Number of samples that belong to class 1:  39922\n",
      "Number of samples that belong to class 2:  5289\n"
     ]
    }
   ],
   "source": [
    "#Counting the number of samples for each class\n",
    "bank = df_bank.to_numpy()\n",
    "bank_num_class_1 = sum(bank[:, -1] == '1')\n",
    "bank_num_class_2 = sum(bank[:, -1] == '2')\n",
    "\n",
    "print(\"Number of samples that belong to class 1: \", str(bank_num_class_1))\n",
    "print(\"Number of samples that belong to class 2: \", str(bank_num_class_2))"
   ]
  },
  {
   "cell_type": "markdown",
   "metadata": {},
   "source": [
    "As seen above, our dataset is highly imbalanced with the majority class being class 1 (clients who have subscribed to a term deposit) and minority class class 2 (clients who have not subscribed to a term deposit). Imbalanced dataset are very common in classification tasks and this issue may affect our overall prediction accuracy."
   ]
  },
  {
   "cell_type": "markdown",
   "metadata": {},
   "source": [
    "Looking into our data columns:"
   ]
  },
  {
   "cell_type": "markdown",
   "metadata": {},
   "source": [
    "`Class Column`"
   ]
  },
  {
   "cell_type": "code",
   "execution_count": 10,
   "metadata": {},
   "outputs": [],
   "source": [
    "df_bank['class'] = df_bank['class'].map({'1': 1, '2': 0})\n"
   ]
  },
  {
   "cell_type": "code",
   "execution_count": 11,
   "metadata": {},
   "outputs": [],
   "source": [
    "df_bank['class'] = df_bank['class'].astype('int64')"
   ]
  },
  {
   "cell_type": "markdown",
   "metadata": {},
   "source": [
    "`Job Column`"
   ]
  },
  {
   "cell_type": "code",
   "execution_count": 12,
   "metadata": {},
   "outputs": [
    {
     "data": {
      "text/plain": [
       "blue-collar      9732\n",
       "management       9458\n",
       "technician       7597\n",
       "admin.           5171\n",
       "services         4154\n",
       "retired          2264\n",
       "self-employed    1579\n",
       "entrepreneur     1487\n",
       "unemployed       1303\n",
       "housemaid        1240\n",
       "student           938\n",
       "unknown           288\n",
       "Name: job, dtype: int64"
      ]
     },
     "execution_count": 12,
     "metadata": {},
     "output_type": "execute_result"
    }
   ],
   "source": [
    "df_bank.job.value_counts()"
   ]
  },
  {
   "cell_type": "code",
   "execution_count": 13,
   "metadata": {},
   "outputs": [
    {
     "data": {
      "text/plain": [
       "job            class\n",
       "admin.         1        4540\n",
       "blue-collar    1        9024\n",
       "entrepreneur   1        1364\n",
       "housemaid      1        1131\n",
       "management     1        8157\n",
       "retired        1        1748\n",
       "self-employed  1        1392\n",
       "services       1        3785\n",
       "student        1         669\n",
       "technician     1        6757\n",
       "unemployed     1        1101\n",
       "unknown        1         254\n",
       "dtype: int64"
      ]
     },
     "execution_count": 13,
     "metadata": {},
     "output_type": "execute_result"
    }
   ],
   "source": [
    "#investigating job vs term deposit (y)\n",
    "df_bank[df_bank['class']==1][['job','class']].groupby(['job','class']).size()"
   ]
  },
  {
   "cell_type": "code",
   "execution_count": 14,
   "metadata": {},
   "outputs": [],
   "source": [
    "#some jobs look like can be combined together into same category\n",
    "df_bank['job'] = df_bank['job'].replace(['services','housemaid'], 'pink-collar')\n",
    "df_bank['job'] = df_bank['job'].replace(['admin','management'], 'blue-collar')\n",
    "df_bank['job'] = df_bank['job'].replace(['student','unemployed','retired'], 'other')\n"
   ]
  },
  {
   "cell_type": "code",
   "execution_count": 15,
   "metadata": {},
   "outputs": [
    {
     "data": {
      "text/plain": [
       "blue-collar      19190\n",
       "technician        7597\n",
       "pink-collar       5394\n",
       "admin.            5171\n",
       "other             4505\n",
       "self-employed     1579\n",
       "entrepreneur      1487\n",
       "unknown            288\n",
       "Name: job, dtype: int64"
      ]
     },
     "execution_count": 15,
     "metadata": {},
     "output_type": "execute_result"
    }
   ],
   "source": [
    "#new value count\n",
    "df_bank.job.value_counts()"
   ]
  },
  {
   "cell_type": "markdown",
   "metadata": {},
   "source": [
    "`Contact`"
   ]
  },
  {
   "cell_type": "code",
   "execution_count": 16,
   "metadata": {},
   "outputs": [],
   "source": [
    "#dropping this column since it does not bring much value to our analysis\n",
    "df_bank.drop('contact', axis=1, inplace=True)"
   ]
  },
  {
   "cell_type": "markdown",
   "metadata": {},
   "source": [
    "`Default, Housing, Loan`"
   ]
  },
  {
   "cell_type": "code",
   "execution_count": 17,
   "metadata": {},
   "outputs": [
    {
     "name": "stdout",
     "output_type": "stream",
     "text": [
      "['no', 'yes']\n",
      "Categories (2, object): ['no' < 'yes']\n",
      "['yes', 'no']\n",
      "Categories (2, object): ['no' < 'yes']\n",
      "['no', 'yes']\n",
      "Categories (2, object): ['no' < 'yes']\n"
     ]
    }
   ],
   "source": [
    "print(df_bank.default.unique())\n",
    "print(df_bank.housing.unique())\n",
    "print(df_bank.loan.unique())"
   ]
  },
  {
   "cell_type": "code",
   "execution_count": 18,
   "metadata": {},
   "outputs": [],
   "source": [
    "#converting their values to integers 1 and 0\n",
    "df_bank['default'] = df_bank['default'].map({'yes': 1, 'no': 0})\n",
    "df_bank.default = df_bank['default'].astype('int64')\n",
    "\n",
    "df_bank['housing'] = df_bank['housing'].map({'yes': 1, 'no': 0})\n",
    "df_bank.housing = df_bank['housing'].astype('int64')\n",
    "\n",
    "df_bank['loan'] = df_bank['loan'].map({'yes': 1, 'no': 0})\n",
    "df_bank.loan = df_bank['loan'].astype('int64')"
   ]
  },
  {
   "cell_type": "markdown",
   "metadata": {},
   "source": [
    "`Month & Day`"
   ]
  },
  {
   "cell_type": "code",
   "execution_count": 19,
   "metadata": {},
   "outputs": [],
   "source": [
    "#dropping these columns since they do not bring much value to our analysis\n",
    "df_bank.drop('month', axis=1, inplace=True)\n",
    "df_bank.drop('day', axis=1, inplace=True)"
   ]
  },
  {
   "cell_type": "markdown",
   "metadata": {},
   "source": [
    "`Pdays`"
   ]
  },
  {
   "cell_type": "code",
   "execution_count": 20,
   "metadata": {},
   "outputs": [
    {
     "name": "stdout",
     "output_type": "stream",
     "text": [
      "Number of clients not contacted: 36954\n",
      "Number of clients  contacted: 8257\n"
     ]
    }
   ],
   "source": [
    "#this column gives information about the last time the clients were contacted\n",
    "#value of -1 indicates that the client was not contacted at all\n",
    "print('Number of clients not contacted:',df_bank[df_bank['pdays']==-1].shape[0])\n",
    "print('Number of clients  contacted:',df_bank[df_bank['pdays']!=-1].shape[0])"
   ]
  },
  {
   "cell_type": "markdown",
   "metadata": {},
   "source": [
    "#### I think this is a good idea but i dont know whether it makes much sense since we standardize values?"
   ]
  },
  {
   "cell_type": "code",
   "execution_count": 21,
   "metadata": {},
   "outputs": [],
   "source": [
    "#we are going to replace of the value of -1 with a bigger value(indicates that this is so far in the past and it should not have an effect anymore)\n",
    "\n",
    "df_bank.loc[df_bank['pdays'] == -1, 'pdays'] = 100000"
   ]
  },
  {
   "cell_type": "markdown",
   "metadata": {},
   "source": [
    "Standardization of numerical columns"
   ]
  },
  {
   "cell_type": "code",
   "execution_count": 22,
   "metadata": {},
   "outputs": [],
   "source": [
    "numeric_columns = ['age','balance','duration','pdays','previous']"
   ]
  },
  {
   "cell_type": "code",
   "execution_count": 23,
   "metadata": {},
   "outputs": [
    {
     "name": "stdout",
     "output_type": "stream",
     "text": [
      "Value range for the attribute 1 (age)  :  18  -  95\n",
      "Value range for the attribute 6 (balance)  :  -8019.0  -  102127.0\n",
      "Value range for the attribute 9 (duration)  :  0.0  -  4918.0\n",
      "Value range for the attribute 11 (pdays)  :  1.0  -  100000.0\n",
      "Value range for the attribute 12 (previous)  :  0.0  -  275.0\n"
     ]
    }
   ],
   "source": [
    "for col in numeric_columns:\n",
    "    print(\"Value range for the attribute\",df_bank.columns.get_loc(col)+1,'('+col+')', \" : \",df_bank[col].min(), \" - \", df_bank[col].max())\n"
   ]
  },
  {
   "cell_type": "code",
   "execution_count": 24,
   "metadata": {},
   "outputs": [],
   "source": [
    "# Attributes have significantly different value ranges -> normalisation/standardisation should be done\n",
    "# as part of pre-processing\n",
    "# Z score standardisation: z_i = (x_i - m)/sigma\n",
    "# #Saving the values directly in the dataframe- for visualization purposes\n",
    "\n",
    "for col in numeric_columns:\n",
    "    df_bank[col] = (df_bank[col] - df_bank[col].mean())/df_bank[col].std()"
   ]
  },
  {
   "cell_type": "code",
   "execution_count": 25,
   "metadata": {},
   "outputs": [
    {
     "name": "stdout",
     "output_type": "stream",
     "text": [
      "Value range for the attribute 1 (age)  :  -2.1599702607349784  -  5.091345825158488\n",
      "Value range for the attribute 6 (balance)  :  -3.081114471206138  -  33.094409749676\n",
      "Value range for the attribute 9 (duration)  :  -1.0024667918804944  -  18.094499693960735\n",
      "Value range for the attribute 11 (pdays)  :  -2.121306458745294  -  0.47268874001400024\n",
      "Value range for the attribute 12 (previous)  :  -0.25193758438383757  -  119.13466473615058\n"
     ]
    }
   ],
   "source": [
    "for col in numeric_columns:\n",
    "    print(\"Value range for the attribute\",df_bank.columns.get_loc(col)+1,'('+col+')', \" : \",df_bank[col].min(), \" - \", df_bank[col].max())\n"
   ]
  },
  {
   "cell_type": "markdown",
   "metadata": {},
   "source": [
    "Converting the rest of categorical attributes to dummy variables"
   ]
  },
  {
   "cell_type": "code",
   "execution_count": 26,
   "metadata": {},
   "outputs": [],
   "source": [
    "df_bank_dummies = pd.get_dummies(df_bank, columns=['job','marital','education','poutcome'],\n",
    " prefix = ['job','marital','education','poutcome'])"
   ]
  },
  {
   "cell_type": "code",
   "execution_count": 27,
   "metadata": {},
   "outputs": [
    {
     "data": {
      "text/html": [
       "<div>\n",
       "<style scoped>\n",
       "    .dataframe tbody tr th:only-of-type {\n",
       "        vertical-align: middle;\n",
       "    }\n",
       "\n",
       "    .dataframe tbody tr th {\n",
       "        vertical-align: top;\n",
       "    }\n",
       "\n",
       "    .dataframe thead th {\n",
       "        text-align: right;\n",
       "    }\n",
       "</style>\n",
       "<table border=\"1\" class=\"dataframe\">\n",
       "  <thead>\n",
       "    <tr style=\"text-align: right;\">\n",
       "      <th></th>\n",
       "      <th>age</th>\n",
       "      <th>default</th>\n",
       "      <th>balance</th>\n",
       "      <th>housing</th>\n",
       "      <th>loan</th>\n",
       "      <th>duration</th>\n",
       "      <th>campaign</th>\n",
       "      <th>pdays</th>\n",
       "      <th>previous</th>\n",
       "      <th>class</th>\n",
       "      <th>...</th>\n",
       "      <th>marital_married</th>\n",
       "      <th>marital_single</th>\n",
       "      <th>education_primary</th>\n",
       "      <th>education_secondary</th>\n",
       "      <th>education_tertiary</th>\n",
       "      <th>education_unknown</th>\n",
       "      <th>poutcome_failure</th>\n",
       "      <th>poutcome_other</th>\n",
       "      <th>poutcome_success</th>\n",
       "      <th>poutcome_unknown</th>\n",
       "    </tr>\n",
       "  </thead>\n",
       "  <tbody>\n",
       "    <tr>\n",
       "      <th>count</th>\n",
       "      <td>4.521100e+04</td>\n",
       "      <td>45211.000000</td>\n",
       "      <td>4.521100e+04</td>\n",
       "      <td>45211.000000</td>\n",
       "      <td>45211.000000</td>\n",
       "      <td>4.521100e+04</td>\n",
       "      <td>45211.000000</td>\n",
       "      <td>4.521100e+04</td>\n",
       "      <td>45211.000000</td>\n",
       "      <td>45211.000000</td>\n",
       "      <td>...</td>\n",
       "      <td>45211.000000</td>\n",
       "      <td>45211.000000</td>\n",
       "      <td>45211.000000</td>\n",
       "      <td>45211.000000</td>\n",
       "      <td>45211.000000</td>\n",
       "      <td>45211.000000</td>\n",
       "      <td>45211.000000</td>\n",
       "      <td>45211.000000</td>\n",
       "      <td>45211.000000</td>\n",
       "      <td>45211.000000</td>\n",
       "    </tr>\n",
       "    <tr>\n",
       "      <th>mean</th>\n",
       "      <td>2.011667e-16</td>\n",
       "      <td>0.018027</td>\n",
       "      <td>1.760208e-17</td>\n",
       "      <td>0.555838</td>\n",
       "      <td>0.160226</td>\n",
       "      <td>5.909271e-17</td>\n",
       "      <td>2.763841</td>\n",
       "      <td>-1.609333e-16</td>\n",
       "      <td>0.000000</td>\n",
       "      <td>0.883015</td>\n",
       "      <td>...</td>\n",
       "      <td>0.601933</td>\n",
       "      <td>0.282896</td>\n",
       "      <td>0.151534</td>\n",
       "      <td>0.513194</td>\n",
       "      <td>0.294198</td>\n",
       "      <td>0.041074</td>\n",
       "      <td>0.108403</td>\n",
       "      <td>0.040698</td>\n",
       "      <td>0.033421</td>\n",
       "      <td>0.817478</td>\n",
       "    </tr>\n",
       "    <tr>\n",
       "      <th>std</th>\n",
       "      <td>1.000000e+00</td>\n",
       "      <td>0.133049</td>\n",
       "      <td>1.000000e+00</td>\n",
       "      <td>0.496878</td>\n",
       "      <td>0.366820</td>\n",
       "      <td>1.000000e+00</td>\n",
       "      <td>3.098021</td>\n",
       "      <td>1.000000e+00</td>\n",
       "      <td>1.000000</td>\n",
       "      <td>0.321406</td>\n",
       "      <td>...</td>\n",
       "      <td>0.489505</td>\n",
       "      <td>0.450411</td>\n",
       "      <td>0.358572</td>\n",
       "      <td>0.499831</td>\n",
       "      <td>0.455687</td>\n",
       "      <td>0.198464</td>\n",
       "      <td>0.310892</td>\n",
       "      <td>0.197592</td>\n",
       "      <td>0.179735</td>\n",
       "      <td>0.386278</td>\n",
       "    </tr>\n",
       "    <tr>\n",
       "      <th>min</th>\n",
       "      <td>-2.159970e+00</td>\n",
       "      <td>0.000000</td>\n",
       "      <td>-3.081114e+00</td>\n",
       "      <td>0.000000</td>\n",
       "      <td>0.000000</td>\n",
       "      <td>-1.002467e+00</td>\n",
       "      <td>1.000000</td>\n",
       "      <td>-2.121306e+00</td>\n",
       "      <td>-0.251938</td>\n",
       "      <td>0.000000</td>\n",
       "      <td>...</td>\n",
       "      <td>0.000000</td>\n",
       "      <td>0.000000</td>\n",
       "      <td>0.000000</td>\n",
       "      <td>0.000000</td>\n",
       "      <td>0.000000</td>\n",
       "      <td>0.000000</td>\n",
       "      <td>0.000000</td>\n",
       "      <td>0.000000</td>\n",
       "      <td>0.000000</td>\n",
       "      <td>0.000000</td>\n",
       "    </tr>\n",
       "    <tr>\n",
       "      <th>25%</th>\n",
       "      <td>-7.473762e-01</td>\n",
       "      <td>0.000000</td>\n",
       "      <td>-4.237673e-01</td>\n",
       "      <td>0.000000</td>\n",
       "      <td>0.000000</td>\n",
       "      <td>-6.025100e-01</td>\n",
       "      <td>1.000000</td>\n",
       "      <td>4.726887e-01</td>\n",
       "      <td>-0.251938</td>\n",
       "      <td>1.000000</td>\n",
       "      <td>...</td>\n",
       "      <td>0.000000</td>\n",
       "      <td>0.000000</td>\n",
       "      <td>0.000000</td>\n",
       "      <td>0.000000</td>\n",
       "      <td>0.000000</td>\n",
       "      <td>0.000000</td>\n",
       "      <td>0.000000</td>\n",
       "      <td>0.000000</td>\n",
       "      <td>0.000000</td>\n",
       "      <td>1.000000</td>\n",
       "    </tr>\n",
       "    <tr>\n",
       "      <th>50%</th>\n",
       "      <td>-1.823386e-01</td>\n",
       "      <td>0.000000</td>\n",
       "      <td>-3.002766e-01</td>\n",
       "      <td>1.000000</td>\n",
       "      <td>0.000000</td>\n",
       "      <td>-3.035132e-01</td>\n",
       "      <td>2.000000</td>\n",
       "      <td>4.726887e-01</td>\n",
       "      <td>-0.251938</td>\n",
       "      <td>1.000000</td>\n",
       "      <td>...</td>\n",
       "      <td>1.000000</td>\n",
       "      <td>0.000000</td>\n",
       "      <td>0.000000</td>\n",
       "      <td>1.000000</td>\n",
       "      <td>0.000000</td>\n",
       "      <td>0.000000</td>\n",
       "      <td>0.000000</td>\n",
       "      <td>0.000000</td>\n",
       "      <td>0.000000</td>\n",
       "      <td>1.000000</td>\n",
       "    </tr>\n",
       "    <tr>\n",
       "      <th>75%</th>\n",
       "      <td>6.652178e-01</td>\n",
       "      <td>0.000000</td>\n",
       "      <td>2.158719e-02</td>\n",
       "      <td>1.000000</td>\n",
       "      <td>0.000000</td>\n",
       "      <td>2.362344e-01</td>\n",
       "      <td>3.000000</td>\n",
       "      <td>4.726887e-01</td>\n",
       "      <td>-0.251938</td>\n",
       "      <td>1.000000</td>\n",
       "      <td>...</td>\n",
       "      <td>1.000000</td>\n",
       "      <td>1.000000</td>\n",
       "      <td>0.000000</td>\n",
       "      <td>1.000000</td>\n",
       "      <td>1.000000</td>\n",
       "      <td>0.000000</td>\n",
       "      <td>0.000000</td>\n",
       "      <td>0.000000</td>\n",
       "      <td>0.000000</td>\n",
       "      <td>1.000000</td>\n",
       "    </tr>\n",
       "    <tr>\n",
       "      <th>max</th>\n",
       "      <td>5.091346e+00</td>\n",
       "      <td>1.000000</td>\n",
       "      <td>3.309441e+01</td>\n",
       "      <td>1.000000</td>\n",
       "      <td>1.000000</td>\n",
       "      <td>1.809450e+01</td>\n",
       "      <td>63.000000</td>\n",
       "      <td>4.726887e-01</td>\n",
       "      <td>119.134665</td>\n",
       "      <td>1.000000</td>\n",
       "      <td>...</td>\n",
       "      <td>1.000000</td>\n",
       "      <td>1.000000</td>\n",
       "      <td>1.000000</td>\n",
       "      <td>1.000000</td>\n",
       "      <td>1.000000</td>\n",
       "      <td>1.000000</td>\n",
       "      <td>1.000000</td>\n",
       "      <td>1.000000</td>\n",
       "      <td>1.000000</td>\n",
       "      <td>1.000000</td>\n",
       "    </tr>\n",
       "  </tbody>\n",
       "</table>\n",
       "<p>8 rows × 29 columns</p>\n",
       "</div>"
      ],
      "text/plain": [
       "                age       default       balance       housing          loan  \\\n",
       "count  4.521100e+04  45211.000000  4.521100e+04  45211.000000  45211.000000   \n",
       "mean   2.011667e-16      0.018027  1.760208e-17      0.555838      0.160226   \n",
       "std    1.000000e+00      0.133049  1.000000e+00      0.496878      0.366820   \n",
       "min   -2.159970e+00      0.000000 -3.081114e+00      0.000000      0.000000   \n",
       "25%   -7.473762e-01      0.000000 -4.237673e-01      0.000000      0.000000   \n",
       "50%   -1.823386e-01      0.000000 -3.002766e-01      1.000000      0.000000   \n",
       "75%    6.652178e-01      0.000000  2.158719e-02      1.000000      0.000000   \n",
       "max    5.091346e+00      1.000000  3.309441e+01      1.000000      1.000000   \n",
       "\n",
       "           duration      campaign         pdays      previous         class  \\\n",
       "count  4.521100e+04  45211.000000  4.521100e+04  45211.000000  45211.000000   \n",
       "mean   5.909271e-17      2.763841 -1.609333e-16      0.000000      0.883015   \n",
       "std    1.000000e+00      3.098021  1.000000e+00      1.000000      0.321406   \n",
       "min   -1.002467e+00      1.000000 -2.121306e+00     -0.251938      0.000000   \n",
       "25%   -6.025100e-01      1.000000  4.726887e-01     -0.251938      1.000000   \n",
       "50%   -3.035132e-01      2.000000  4.726887e-01     -0.251938      1.000000   \n",
       "75%    2.362344e-01      3.000000  4.726887e-01     -0.251938      1.000000   \n",
       "max    1.809450e+01     63.000000  4.726887e-01    119.134665      1.000000   \n",
       "\n",
       "       ...  marital_married  marital_single  education_primary  \\\n",
       "count  ...     45211.000000    45211.000000       45211.000000   \n",
       "mean   ...         0.601933        0.282896           0.151534   \n",
       "std    ...         0.489505        0.450411           0.358572   \n",
       "min    ...         0.000000        0.000000           0.000000   \n",
       "25%    ...         0.000000        0.000000           0.000000   \n",
       "50%    ...         1.000000        0.000000           0.000000   \n",
       "75%    ...         1.000000        1.000000           0.000000   \n",
       "max    ...         1.000000        1.000000           1.000000   \n",
       "\n",
       "       education_secondary  education_tertiary  education_unknown  \\\n",
       "count         45211.000000        45211.000000       45211.000000   \n",
       "mean              0.513194            0.294198           0.041074   \n",
       "std               0.499831            0.455687           0.198464   \n",
       "min               0.000000            0.000000           0.000000   \n",
       "25%               0.000000            0.000000           0.000000   \n",
       "50%               1.000000            0.000000           0.000000   \n",
       "75%               1.000000            1.000000           0.000000   \n",
       "max               1.000000            1.000000           1.000000   \n",
       "\n",
       "       poutcome_failure  poutcome_other  poutcome_success  poutcome_unknown  \n",
       "count      45211.000000    45211.000000      45211.000000      45211.000000  \n",
       "mean           0.108403        0.040698          0.033421          0.817478  \n",
       "std            0.310892        0.197592          0.179735          0.386278  \n",
       "min            0.000000        0.000000          0.000000          0.000000  \n",
       "25%            0.000000        0.000000          0.000000          1.000000  \n",
       "50%            0.000000        0.000000          0.000000          1.000000  \n",
       "75%            0.000000        0.000000          0.000000          1.000000  \n",
       "max            1.000000        1.000000          1.000000          1.000000  \n",
       "\n",
       "[8 rows x 29 columns]"
      ]
     },
     "execution_count": 27,
     "metadata": {},
     "output_type": "execute_result"
    }
   ],
   "source": [
    "df_bank_dummies.describe()\n"
   ]
  },
  {
   "cell_type": "code",
   "execution_count": 30,
   "metadata": {},
   "outputs": [
    {
     "data": {
      "text/plain": [
       "age                    float64\n",
       "default                  int64\n",
       "balance                float64\n",
       "housing                  int64\n",
       "loan                     int64\n",
       "duration               float64\n",
       "campaign                 uint8\n",
       "pdays                  float64\n",
       "previous               float64\n",
       "class                    int64\n",
       "job_admin.               uint8\n",
       "job_blue-collar          uint8\n",
       "job_entrepreneur         uint8\n",
       "job_self-employed        uint8\n",
       "job_pink-collar          uint8\n",
       "job_other                uint8\n",
       "job_technician           uint8\n",
       "job_unknown              uint8\n",
       "marital_divorced         uint8\n",
       "marital_married          uint8\n",
       "marital_single           uint8\n",
       "education_primary        uint8\n",
       "education_secondary      uint8\n",
       "education_tertiary       uint8\n",
       "education_unknown        uint8\n",
       "poutcome_failure         uint8\n",
       "poutcome_other           uint8\n",
       "poutcome_success         uint8\n",
       "poutcome_unknown         uint8\n",
       "dtype: object"
      ]
     },
     "execution_count": 30,
     "metadata": {},
     "output_type": "execute_result"
    }
   ],
   "source": [
    "#As seen below all variables are integers/float \n",
    "df_bank_dummies.dtypes"
   ]
  },
  {
   "cell_type": "markdown",
   "metadata": {},
   "source": [
    "#### Correlation Matrix"
   ]
  },
  {
   "cell_type": "code",
   "execution_count": 33,
   "metadata": {},
   "outputs": [
    {
     "data": {
      "image/png": "[encoded data removed]",
      "text/plain": [
       "<Figure size 1600x600 with 2 Axes>"
      ]
     },
     "metadata": {},
     "output_type": "display_data"
    }
   ],
   "source": [
    "plt.figure(figsize=(16, 6))\n",
    "heatmap = sns.heatmap(df_bank_dummies[numeric_columns].corr(),vmin=-1, vmax=1, annot=True, cmap='BrBG')\n",
    "heatmap.set_title('Correlation Heatmap', fontdict={'fontsize':18}, pad=16)\n",
    "# plt.savefig('bank_heatmap.jpg',)\n",
    "plt.show()"
   ]
  },
  {
   "cell_type": "code",
   "execution_count": null,
   "metadata": {},
   "outputs": [],
   "source": []
  }
 ],
 "metadata": {
  "interpreter": {
   "hash": "aee8b7b246df8f9039afb4144a1f6fd8d2ca17a180786b69acc140d282b71a49"
  },
  "kernelspec": {
   "display_name": "Python 3.10.4 64-bit",
   "language": "python",
   "name": "python3"
  },
  "language_info": {
   "codemirror_mode": {
    "name": "ipython",
    "version": 3
   },
   "file_extension": ".py",
   "mimetype": "text/x-python",
   "name": "python",
   "nbconvert_exporter": "python",
   "pygments_lexer": "ipython3",
   "version": "3.10.4"
  },
  "orig_nbformat": 4
 },
 "nbformat": 4,
 "nbformat_minor": 2
}
